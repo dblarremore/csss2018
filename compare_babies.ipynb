{
 "cells": [
  {
   "cell_type": "code",
   "execution_count": null,
   "metadata": {},
   "outputs": [],
   "source": [
    "# put this in a jupyter notebook.\n",
    "# thanks to  Javier Garcia-Bernardo <garcia@uva.nl>\n",
    "\n",
    "\n",
    "from IPython.display import clear_output\n",
    "from IPython.display import Image, display\n",
    "import matplotlib.image as mpimg\n",
    "import pylab as plt\n",
    "import os\n",
    "import numpy as np\n",
    "%matplotlib inline\n"
   ]
  },
  {
   "cell_type": "markdown",
   "metadata": {},
   "source": [
    "If you haven't unzipped babies.zip, run the following"
   ]
  },
  {
   "cell_type": "code",
   "execution_count": null,
   "metadata": {},
   "outputs": [],
   "source": [
    "!unzip babies.zip"
   ]
  },
  {
   "cell_type": "markdown",
   "metadata": {},
   "source": [
    "Run the cell below for as long as you want. Your rankings will be saved in the file `babies_results.csv`. Every round it shows you two pictures with baby indices above the pictures. Put in your ranking, e.g. if you're shown animals 20 and 34 and you like 34 better than 20, put in `34 20` and hit Enter."
   ]
  },
  {
   "cell_type": "code",
   "execution_count": null,
   "metadata": {},
   "outputs": [],
   "source": [
    "image_list = [_ for _ in os.listdir(\"babies/\") if _[0] != \".\"]\n",
    "with open(\"babies_results.csv\",\"w+\") as f:\n",
    "    while 1:\n",
    "        a,b = np.random.randint(0,len(image_list),2)\n",
    "        if a == b:\n",
    "            continue\n",
    "        plt.figure(figsize=(10,5))\n",
    "        images = [mpimg.imread('babies/{}'.format(image_list[a])),\n",
    "                  mpimg.imread('babies/{}'.format(image_list[b]))]\n",
    "        for i in range(2):\n",
    "            plt.subplot(1,2,i+1)\n",
    "            plt.title(str([a,b][i]))\n",
    "            plt.imshow(images[i])\n",
    "            plt.axis(\"off\")\n",
    "        plt.show()\n",
    "        #display(Image(filename='babies/{}.jpg'.format(a),width=200),Image(filename='babies/{}.jpg'.format(b),width=200)  )\n",
    "        try:\n",
    "            print(\"put in the numbers in the order of whom you find cuter\\n(e.g. if you find 20 cuter than 15, put in: 20 15 and hit Enter.)\")\n",
    "            av,bv = input(\"numbers\").strip().split()\n",
    "        except:\n",
    "            break\n",
    "            \n",
    "        for i in range(int(av)):\n",
    "            f.write(\"{} {}\\n\".format(a,b))\n",
    "        for j in range(int(bv)):\n",
    "            f.write(\"{} {}\\n\".format(b,a))\n",
    "\n",
    "        clear_output()\n"
   ]
  },
  {
   "cell_type": "code",
   "execution_count": null,
   "metadata": {
    "collapsed": true
   },
   "outputs": [],
   "source": []
  }
 ],
 "metadata": {
  "anaconda-cloud": {},
  "kernelspec": {
   "display_name": "Python 3",
   "language": "python",
   "name": "python3"
  },
  "language_info": {
   "codemirror_mode": {
    "name": "ipython",
    "version": 3
   },
   "file_extension": ".py",
   "mimetype": "text/x-python",
   "name": "python",
   "nbconvert_exporter": "python",
   "pygments_lexer": "ipython3",
   "version": "3.6.5"
  }
 },
 "nbformat": 4,
 "nbformat_minor": 1
}
